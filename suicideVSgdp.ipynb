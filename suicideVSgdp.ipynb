{
 "cells": [
  {
   "cell_type": "code",
   "execution_count": 128,
   "metadata": {
    "ExecuteTime": {
     "end_time": "2022-03-09T04:25:27.499160Z",
     "start_time": "2022-03-09T04:25:27.494207Z"
    }
   },
   "outputs": [],
   "source": [
    "import json\n",
    "import requests\n",
    "\n",
    "import matplotlib.pyplot as plt\n",
    "import numpy as np\n",
    "import pandas as pd\n",
    "\n",
    "from operator import itemgetter\n",
    "from pathlib import Path\n",
    "\n",
    "import math\n",
    "import scipy.stats as st # used for confidence interval\n",
    "import matplotlib.patches as mpatches # used for rectangles in plots\n",
    "from sklearn.cluster import KMeans # used for K-Means Clustering\n",
    "\n",
    "from pprint import pprint"
   ]
  },
  {
   "cell_type": "code",
   "execution_count": 28,
   "metadata": {
    "ExecuteTime": {
     "end_time": "2022-03-09T02:06:06.647235Z",
     "start_time": "2022-03-09T02:06:06.557402Z"
    }
   },
   "outputs": [],
   "source": [
    "df = pd.read_csv(Path.cwd() / 'suicideVSgdp.csv')"
   ]
  },
  {
   "cell_type": "code",
   "execution_count": 29,
   "metadata": {
    "ExecuteTime": {
     "end_time": "2022-03-09T02:06:12.607686Z",
     "start_time": "2022-03-09T02:06:12.568234Z"
    }
   },
   "outputs": [
    {
     "data": {
      "text/html": [
       "<div>\n",
       "<style scoped>\n",
       "    .dataframe tbody tr th:only-of-type {\n",
       "        vertical-align: middle;\n",
       "    }\n",
       "\n",
       "    .dataframe tbody tr th {\n",
       "        vertical-align: top;\n",
       "    }\n",
       "\n",
       "    .dataframe thead th {\n",
       "        text-align: right;\n",
       "    }\n",
       "</style>\n",
       "<table border=\"1\" class=\"dataframe\">\n",
       "  <thead>\n",
       "    <tr style=\"text-align: right;\">\n",
       "      <th></th>\n",
       "      <th>country</th>\n",
       "      <th>year</th>\n",
       "      <th>sex</th>\n",
       "      <th>age</th>\n",
       "      <th>suicides_no</th>\n",
       "      <th>population</th>\n",
       "      <th>suicide_per_hundred_k_pop</th>\n",
       "      <th>country-year</th>\n",
       "      <th>HDI for year</th>\n",
       "      <th>gdp_for_year</th>\n",
       "      <th>gdp_per_capita</th>\n",
       "      <th>generation</th>\n",
       "    </tr>\n",
       "  </thead>\n",
       "  <tbody>\n",
       "    <tr>\n",
       "      <th>0</th>\n",
       "      <td>Albania</td>\n",
       "      <td>1987</td>\n",
       "      <td>male</td>\n",
       "      <td>15-24 years</td>\n",
       "      <td>21</td>\n",
       "      <td>312900</td>\n",
       "      <td>6.71</td>\n",
       "      <td>Albania1987</td>\n",
       "      <td>NaN</td>\n",
       "      <td>2,156,624,900</td>\n",
       "      <td>796</td>\n",
       "      <td>Generation X</td>\n",
       "    </tr>\n",
       "    <tr>\n",
       "      <th>1</th>\n",
       "      <td>Albania</td>\n",
       "      <td>1987</td>\n",
       "      <td>male</td>\n",
       "      <td>35-54 years</td>\n",
       "      <td>16</td>\n",
       "      <td>308000</td>\n",
       "      <td>5.19</td>\n",
       "      <td>Albania1987</td>\n",
       "      <td>NaN</td>\n",
       "      <td>2,156,624,900</td>\n",
       "      <td>796</td>\n",
       "      <td>Silent</td>\n",
       "    </tr>\n",
       "    <tr>\n",
       "      <th>2</th>\n",
       "      <td>Albania</td>\n",
       "      <td>1987</td>\n",
       "      <td>female</td>\n",
       "      <td>15-24 years</td>\n",
       "      <td>14</td>\n",
       "      <td>289700</td>\n",
       "      <td>4.83</td>\n",
       "      <td>Albania1987</td>\n",
       "      <td>NaN</td>\n",
       "      <td>2,156,624,900</td>\n",
       "      <td>796</td>\n",
       "      <td>Generation X</td>\n",
       "    </tr>\n",
       "    <tr>\n",
       "      <th>3</th>\n",
       "      <td>Albania</td>\n",
       "      <td>1987</td>\n",
       "      <td>male</td>\n",
       "      <td>75+ years</td>\n",
       "      <td>1</td>\n",
       "      <td>21800</td>\n",
       "      <td>4.59</td>\n",
       "      <td>Albania1987</td>\n",
       "      <td>NaN</td>\n",
       "      <td>2,156,624,900</td>\n",
       "      <td>796</td>\n",
       "      <td>G.I. Generation</td>\n",
       "    </tr>\n",
       "    <tr>\n",
       "      <th>4</th>\n",
       "      <td>Albania</td>\n",
       "      <td>1987</td>\n",
       "      <td>male</td>\n",
       "      <td>25-34 years</td>\n",
       "      <td>9</td>\n",
       "      <td>274300</td>\n",
       "      <td>3.28</td>\n",
       "      <td>Albania1987</td>\n",
       "      <td>NaN</td>\n",
       "      <td>2,156,624,900</td>\n",
       "      <td>796</td>\n",
       "      <td>Boomers</td>\n",
       "    </tr>\n",
       "    <tr>\n",
       "      <th>...</th>\n",
       "      <td>...</td>\n",
       "      <td>...</td>\n",
       "      <td>...</td>\n",
       "      <td>...</td>\n",
       "      <td>...</td>\n",
       "      <td>...</td>\n",
       "      <td>...</td>\n",
       "      <td>...</td>\n",
       "      <td>...</td>\n",
       "      <td>...</td>\n",
       "      <td>...</td>\n",
       "      <td>...</td>\n",
       "    </tr>\n",
       "    <tr>\n",
       "      <th>27815</th>\n",
       "      <td>Uzbekistan</td>\n",
       "      <td>2014</td>\n",
       "      <td>female</td>\n",
       "      <td>35-54 years</td>\n",
       "      <td>107</td>\n",
       "      <td>3620833</td>\n",
       "      <td>2.96</td>\n",
       "      <td>Uzbekistan2014</td>\n",
       "      <td>0.675</td>\n",
       "      <td>63,067,077,179</td>\n",
       "      <td>2309</td>\n",
       "      <td>Generation X</td>\n",
       "    </tr>\n",
       "    <tr>\n",
       "      <th>27816</th>\n",
       "      <td>Uzbekistan</td>\n",
       "      <td>2014</td>\n",
       "      <td>female</td>\n",
       "      <td>75+ years</td>\n",
       "      <td>9</td>\n",
       "      <td>348465</td>\n",
       "      <td>2.58</td>\n",
       "      <td>Uzbekistan2014</td>\n",
       "      <td>0.675</td>\n",
       "      <td>63,067,077,179</td>\n",
       "      <td>2309</td>\n",
       "      <td>Silent</td>\n",
       "    </tr>\n",
       "    <tr>\n",
       "      <th>27817</th>\n",
       "      <td>Uzbekistan</td>\n",
       "      <td>2014</td>\n",
       "      <td>male</td>\n",
       "      <td>5-14 years</td>\n",
       "      <td>60</td>\n",
       "      <td>2762158</td>\n",
       "      <td>2.17</td>\n",
       "      <td>Uzbekistan2014</td>\n",
       "      <td>0.675</td>\n",
       "      <td>63,067,077,179</td>\n",
       "      <td>2309</td>\n",
       "      <td>Generation Z</td>\n",
       "    </tr>\n",
       "    <tr>\n",
       "      <th>27818</th>\n",
       "      <td>Uzbekistan</td>\n",
       "      <td>2014</td>\n",
       "      <td>female</td>\n",
       "      <td>5-14 years</td>\n",
       "      <td>44</td>\n",
       "      <td>2631600</td>\n",
       "      <td>1.67</td>\n",
       "      <td>Uzbekistan2014</td>\n",
       "      <td>0.675</td>\n",
       "      <td>63,067,077,179</td>\n",
       "      <td>2309</td>\n",
       "      <td>Generation Z</td>\n",
       "    </tr>\n",
       "    <tr>\n",
       "      <th>27819</th>\n",
       "      <td>Uzbekistan</td>\n",
       "      <td>2014</td>\n",
       "      <td>female</td>\n",
       "      <td>55-74 years</td>\n",
       "      <td>21</td>\n",
       "      <td>1438935</td>\n",
       "      <td>1.46</td>\n",
       "      <td>Uzbekistan2014</td>\n",
       "      <td>0.675</td>\n",
       "      <td>63,067,077,179</td>\n",
       "      <td>2309</td>\n",
       "      <td>Boomers</td>\n",
       "    </tr>\n",
       "  </tbody>\n",
       "</table>\n",
       "<p>27820 rows × 12 columns</p>\n",
       "</div>"
      ],
      "text/plain": [
       "          country  year     sex          age  suicides_no  population  \\\n",
       "0         Albania  1987    male  15-24 years           21      312900   \n",
       "1         Albania  1987    male  35-54 years           16      308000   \n",
       "2         Albania  1987  female  15-24 years           14      289700   \n",
       "3         Albania  1987    male    75+ years            1       21800   \n",
       "4         Albania  1987    male  25-34 years            9      274300   \n",
       "...           ...   ...     ...          ...          ...         ...   \n",
       "27815  Uzbekistan  2014  female  35-54 years          107     3620833   \n",
       "27816  Uzbekistan  2014  female    75+ years            9      348465   \n",
       "27817  Uzbekistan  2014    male   5-14 years           60     2762158   \n",
       "27818  Uzbekistan  2014  female   5-14 years           44     2631600   \n",
       "27819  Uzbekistan  2014  female  55-74 years           21     1438935   \n",
       "\n",
       "       suicide_per_hundred_k_pop    country-year  HDI for year  \\\n",
       "0                           6.71     Albania1987           NaN   \n",
       "1                           5.19     Albania1987           NaN   \n",
       "2                           4.83     Albania1987           NaN   \n",
       "3                           4.59     Albania1987           NaN   \n",
       "4                           3.28     Albania1987           NaN   \n",
       "...                          ...             ...           ...   \n",
       "27815                       2.96  Uzbekistan2014         0.675   \n",
       "27816                       2.58  Uzbekistan2014         0.675   \n",
       "27817                       2.17  Uzbekistan2014         0.675   \n",
       "27818                       1.67  Uzbekistan2014         0.675   \n",
       "27819                       1.46  Uzbekistan2014         0.675   \n",
       "\n",
       "         gdp_for_year  gdp_per_capita       generation  \n",
       "0       2,156,624,900             796     Generation X  \n",
       "1       2,156,624,900             796           Silent  \n",
       "2       2,156,624,900             796     Generation X  \n",
       "3       2,156,624,900             796  G.I. Generation  \n",
       "4       2,156,624,900             796          Boomers  \n",
       "...               ...             ...              ...  \n",
       "27815  63,067,077,179            2309     Generation X  \n",
       "27816  63,067,077,179            2309           Silent  \n",
       "27817  63,067,077,179            2309     Generation Z  \n",
       "27818  63,067,077,179            2309     Generation Z  \n",
       "27819  63,067,077,179            2309          Boomers  \n",
       "\n",
       "[27820 rows x 12 columns]"
      ]
     },
     "execution_count": 29,
     "metadata": {},
     "output_type": "execute_result"
    }
   ],
   "source": [
    "df"
   ]
  },
  {
   "cell_type": "code",
   "execution_count": 46,
   "metadata": {
    "ExecuteTime": {
     "end_time": "2022-03-09T02:39:05.794372Z",
     "start_time": "2022-03-09T02:39:05.776191Z"
    }
   },
   "outputs": [],
   "source": [
    "# Data availability in each year differs by country and by year\n",
    "# GDP per capita is the same across all demographic groups of a country in a given year\n",
    "years = df.loc[:,'year']\n",
    "year_extent = (min(years), max(years))\n",
    "# for i in range(year_extent[0], year_extent[1]+1):\n",
    "#     print(i)"
   ]
  },
  {
   "cell_type": "code",
   "execution_count": 52,
   "metadata": {
    "ExecuteTime": {
     "end_time": "2022-03-09T02:47:33.201009Z",
     "start_time": "2022-03-09T02:47:33.183651Z"
    }
   },
   "outputs": [],
   "source": [
    "countries = sorted(list(set(df.loc[:,'country'])))\n",
    "# countries"
   ]
  },
  {
   "cell_type": "code",
   "execution_count": 130,
   "metadata": {
    "ExecuteTime": {
     "end_time": "2022-03-09T04:26:22.884471Z",
     "start_time": "2022-03-09T04:26:22.787902Z"
    }
   },
   "outputs": [],
   "source": [
    "albania = {}\n",
    "df_albania = df.loc[df['country']=='Albania'] # df filtered to country == Albania\n",
    "albania_years = df_albania.loc[:, 'year'] # pd series of years (overlaps due to different demographic groups)\n",
    "albania['years'] =  sorted(list(set(albania_years))) # unique list(range) of years\n",
    "\n",
    "albania_gdp_per_capita = []\n",
    "albania_suicide_per_hundred_k_pop = []\n",
    "for year in albania['years']:\n",
    "    \n",
    "    try: # ensure all gdp_per_capita in a given year is same across demographic groups\n",
    "        gdp_pc = list(df_albania.loc[df['year']==year, ['gdp_per_capita']].squeeze())\n",
    "        \n",
    "        if not all(list(map((lambda x: x==gdp_pc[0]), gdp_pc))):\n",
    "            raise Exception(f\"invalid gdp_per_capita data\")\n",
    "    except Exception as e:\n",
    "        print(e)\n",
    "    else:\n",
    "        albania_gdp_per_capita.append(gdp_pc[0])\n",
    "        \n",
    "    suicide_count = sum(list(df_albania.loc[df['year']==year, ['suicides_no']].squeeze()))\n",
    "    population = sum(list(df_albania.loc[df['year']==year, ['population']].squeeze()))\n",
    "    suicide_per_hundred_k_pop = (10**5)*suicide_count/population\n",
    "    albania_suicide_per_hundred_k_pop.append(suicide_per_hundred_k_pop)\n",
    "albania['gdp_per_capita'] = albania_gdp_per_capita\n",
    "albania['suicide_per_hundred_k_pop'] = albania_suicide_per_hundred_k_pop\n",
    "# albania['suicide_per_hundred_k_pop']\n",
    "# len(albania['suicide_per_hundred_k_pop']) == len(albania['gdp_per_capita'])\n",
    "# len(albania['years'])==len(albania['gdp_per_capita'])\n",
    "# pprint(albania)"
   ]
  },
  {
   "cell_type": "code",
   "execution_count": 146,
   "metadata": {
    "ExecuteTime": {
     "end_time": "2022-03-09T04:31:23.828856Z",
     "start_time": "2022-03-09T04:31:23.824888Z"
    }
   },
   "outputs": [],
   "source": [
    "def suicide_rate2area(suicide_rates): # function to return a list of area for points at corresponding index\n",
    "    area_list = []\n",
    "    for rate in suicide_rates:\n",
    "        area_list.append(50*rate**2)\n",
    "        # squared since area is proportional to square of the value\n",
    "        # factor by half to adjust final area when plotted\n",
    "    return area_list\n",
    "# areas = overall_percent_poverty2area(list(map(locality_name2overall_percent_poverty, locality_name_list)))"
   ]
  },
  {
   "cell_type": "code",
   "execution_count": 170,
   "metadata": {
    "ExecuteTime": {
     "end_time": "2022-03-09T04:47:44.400510Z",
     "start_time": "2022-03-09T04:47:44.395941Z"
    }
   },
   "outputs": [],
   "source": [
    "def suicide_rate2area_ver2(suicide_rates): # function to return a list of area for points at corresponding index\n",
    "    area_list = []\n",
    "    for rate in suicide_rates:\n",
    "        area_list.append(0.0001*rate**2)\n",
    "        # squared since area is proportional to square of the value\n",
    "        # factor by half to adjust final area when plotted\n",
    "    return area_list\n",
    "# areas = overall_percent_poverty2area(list(map(locality_name2overall_percent_poverty, locality_name_list)))"
   ]
  },
  {
   "cell_type": "code",
   "execution_count": 156,
   "metadata": {
    "ExecuteTime": {
     "end_time": "2022-03-09T04:34:58.014693Z",
     "start_time": "2022-03-09T04:34:58.010668Z"
    }
   },
   "outputs": [],
   "source": [
    "def suicide_rate2color(suicide_rates):\n",
    "    color_list = []\n",
    "    for rate in suicide_rates:\n",
    "        color_list.append(rate**2)\n",
    "        # squared since area is proportional to square of the value\n",
    "        # factor by half to adjust final area when plotted\n",
    "    return color_list\n",
    "# areas = overall_percent_poverty2area(list(map(locality_name2overall_percent_poverty, locality_name_list)))"
   ]
  },
  {
   "cell_type": "code",
   "execution_count": 158,
   "metadata": {
    "ExecuteTime": {
     "end_time": "2022-03-09T04:35:12.896428Z",
     "start_time": "2022-03-09T04:35:12.777219Z"
    }
   },
   "outputs": [
    {
     "data": {
      "image/png": "[encoded data removed]",
      "text/plain": [
       "<Figure size 1440x720 with 1 Axes>"
      ]
     },
     "metadata": {
      "needs_background": "light"
     },
     "output_type": "display_data"
    }
   ],
   "source": [
    "fig, ax = plt.subplots(1,1)\n",
    "# color_map = plt.cm.get_cmap('Reds')\n",
    "ax.scatter(albania['years'], albania['gdp_per_capita'], \n",
    "           c = suicide_rate2color(albania['suicide_per_hundred_k_pop']), cmap = plt.cm.get_cmap('Reds'), \n",
    "           s = suicide_rate2area(albania['suicide_per_hundred_k_pop']), \n",
    "           alpha = 0.5)\n",
    "plt.rcParams[\"figure.figsize\"] = (20, 10)\n",
    "ax.grid()\n",
    "plt.show()"
   ]
  },
  {
   "cell_type": "code",
   "execution_count": 171,
   "metadata": {
    "ExecuteTime": {
     "end_time": "2022-03-09T04:47:46.589004Z",
     "start_time": "2022-03-09T04:47:46.454478Z"
    }
   },
   "outputs": [
    {
     "data": {
      "image/png": "[encoded data removed]",
      "text/plain": [
       "<Figure size 1440x720 with 1 Axes>"
      ]
     },
     "metadata": {
      "needs_background": "light"
     },
     "output_type": "display_data"
    }
   ],
   "source": [
    "fig, ax = plt.subplots(1,1)\n",
    "# color_map = plt.cm.get_cmap('Reds')\n",
    "ax.scatter(albania['years'], albania['suicide_per_hundred_k_pop'], \n",
    "           c = suicide_rate2color(albania['gdp_per_capita']), cmap = plt.cm.get_cmap('Reds'), \n",
    "           s = suicide_rate2area_ver2(albania['gdp_per_capita']), \n",
    "           alpha = 0.5)\n",
    "plt.rcParams[\"figure.figsize\"] = (20, 10)\n",
    "ax.grid()\n",
    "plt.show()"
   ]
  },
  {
   "cell_type": "code",
   "execution_count": 172,
   "metadata": {
    "ExecuteTime": {
     "end_time": "2022-03-09T04:49:38.944662Z",
     "start_time": "2022-03-09T04:49:38.934619Z"
    }
   },
   "outputs": [
    {
     "data": {
      "text/plain": [
       "{'years': [1987,\n",
       "  1988,\n",
       "  1989,\n",
       "  1992,\n",
       "  1993,\n",
       "  1994,\n",
       "  1995,\n",
       "  1996,\n",
       "  1997,\n",
       "  1998,\n",
       "  1999,\n",
       "  2000,\n",
       "  2001,\n",
       "  2002,\n",
       "  2003,\n",
       "  2004,\n",
       "  2005,\n",
       "  2006,\n",
       "  2007,\n",
       "  2008,\n",
       "  2009,\n",
       "  2010],\n",
       " 'gdp_per_capita': [796,\n",
       "  769,\n",
       "  833,\n",
       "  251,\n",
       "  437,\n",
       "  697,\n",
       "  835,\n",
       "  1127,\n",
       "  793,\n",
       "  899,\n",
       "  1127,\n",
       "  1299,\n",
       "  1451,\n",
       "  1573,\n",
       "  2021,\n",
       "  2544,\n",
       "  2931,\n",
       "  3235,\n",
       "  3863,\n",
       "  4672,\n",
       "  4387,\n",
       "  4359],\n",
       " 'suicide_per_hundred_k_pop': [2.69412459403602,\n",
       "  2.279057989364396,\n",
       "  2.4258856266276623,\n",
       "  1.6651904340124004,\n",
       "  2.6003633384390694,\n",
       "  1.7548169725897589,\n",
       "  3.03092925535579,\n",
       "  3.027004965648595,\n",
       "  5.709871359957008,\n",
       "  5.111693829455306,\n",
       "  4.587912994685943,\n",
       "  1.931123270035404,\n",
       "  4.250988354792489,\n",
       "  4.718254572183796,\n",
       "  4.360165109607166,\n",
       "  5.078276766779444,\n",
       "  0.0,\n",
       "  0.0,\n",
       "  4.47597843444713,\n",
       "  5.803285312356391,\n",
       "  0.0,\n",
       "  3.5087398689704954]}"
      ]
     },
     "execution_count": 172,
     "metadata": {},
     "output_type": "execute_result"
    }
   ],
   "source": [
    "albania"
   ]
  },
  {
   "cell_type": "code",
   "execution_count": null,
   "metadata": {},
   "outputs": [],
   "source": []
  }
 ],
 "metadata": {
  "kernelspec": {
   "display_name": "Python 3",
   "language": "python",
   "name": "python3"
  },
  "language_info": {
   "codemirror_mode": {
    "name": "ipython",
    "version": 3
   },
   "file_extension": ".py",
   "mimetype": "text/x-python",
   "name": "python",
   "nbconvert_exporter": "python",
   "pygments_lexer": "ipython3",
   "version": "3.8.5"
  },
  "toc": {
   "base_numbering": 1,
   "nav_menu": {},
   "number_sections": true,
   "sideBar": true,
   "skip_h1_title": false,
   "title_cell": "Table of Contents",
   "title_sidebar": "Contents",
   "toc_cell": false,
   "toc_position": {},
   "toc_section_display": true,
   "toc_window_display": false
  }
 },
 "nbformat": 4,
 "nbformat_minor": 4
}
